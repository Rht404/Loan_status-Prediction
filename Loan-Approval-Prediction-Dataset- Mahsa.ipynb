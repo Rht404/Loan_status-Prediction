{
 "cells": [
  {
   "cell_type": "code",
   "execution_count": 264,
   "id": "39e7cb68",
   "metadata": {},
   "outputs": [],
   "source": [
    "import pandas as pd \n",
    "import numpy as np\n",
    "from sklearn.preprocessing import StandardScaler\n",
    "from sklearn.model_selection import train_test_split\n",
    "from sklearn.linear_model import LogisticRegression\n",
    "from sklearn.metrics import accuracy_score, confusion_matrix, classification_report\n",
    "import seaborn as sns"
   ]
  },
  {
   "cell_type": "code",
   "execution_count": 265,
   "id": "9b58854c",
   "metadata": {},
   "outputs": [
    {
     "name": "stdout",
     "output_type": "stream",
     "text": [
      "   loan_id   no_of_dependents      education  self_employed   income_annum  \\\n",
      "0        1                  2       Graduate             No        9600000   \n",
      "1        2                  0   Not Graduate            Yes        4100000   \n",
      "2        3                  3       Graduate             No        9100000   \n",
      "3        4                  3       Graduate             No        8200000   \n",
      "4        5                  5   Not Graduate            Yes        9800000   \n",
      "\n",
      "    loan_amount   loan_term   cibil_score   residential_assets_value  \\\n",
      "0      29900000          12           778                    2400000   \n",
      "1      12200000           8           417                    2700000   \n",
      "2      29700000          20           506                    7100000   \n",
      "3      30700000           8           467                   18200000   \n",
      "4      24200000          20           382                   12400000   \n",
      "\n",
      "    commercial_assets_value   luxury_assets_value   bank_asset_value  \\\n",
      "0                  17600000              22700000            8000000   \n",
      "1                   2200000               8800000            3300000   \n",
      "2                   4500000              33300000           12800000   \n",
      "3                   3300000              23300000            7900000   \n",
      "4                   8200000              29400000            5000000   \n",
      "\n",
      "   loan_status  \n",
      "0     Approved  \n",
      "1     Rejected  \n",
      "2     Rejected  \n",
      "3     Rejected  \n",
      "4     Rejected  \n"
     ]
    }
   ],
   "source": [
    "file_path = '/Users/mahsadorri/Downloads/loan_approval_dataset.csv' \n",
    "data = pd.read_csv(file_path)\n",
    "print(data.head())\n"
   ]
  },
  {
   "cell_type": "code",
   "execution_count": 266,
   "id": "7ed784a5",
   "metadata": {},
   "outputs": [
    {
     "data": {
      "text/plain": [
       "loan_id                      0\n",
       " no_of_dependents            0\n",
       " education                   0\n",
       " self_employed               0\n",
       " income_annum                0\n",
       " loan_amount                 0\n",
       " loan_term                   0\n",
       " cibil_score                 0\n",
       " residential_assets_value    0\n",
       " commercial_assets_value     0\n",
       " luxury_assets_value         0\n",
       " bank_asset_value            0\n",
       " loan_status                 0\n",
       "dtype: int64"
      ]
     },
     "execution_count": 266,
     "metadata": {},
     "output_type": "execute_result"
    }
   ],
   "source": [
    "data.isnull().sum()"
   ]
  },
  {
   "cell_type": "code",
   "execution_count": 267,
   "id": "32ed610b",
   "metadata": {},
   "outputs": [
    {
     "data": {
      "text/html": [
       "<div>\n",
       "<style scoped>\n",
       "    .dataframe tbody tr th:only-of-type {\n",
       "        vertical-align: middle;\n",
       "    }\n",
       "\n",
       "    .dataframe tbody tr th {\n",
       "        vertical-align: top;\n",
       "    }\n",
       "\n",
       "    .dataframe thead th {\n",
       "        text-align: right;\n",
       "    }\n",
       "</style>\n",
       "<table border=\"1\" class=\"dataframe\">\n",
       "  <thead>\n",
       "    <tr style=\"text-align: right;\">\n",
       "      <th></th>\n",
       "      <th>loan_id</th>\n",
       "      <th>no_of_dependents</th>\n",
       "      <th>income_annum</th>\n",
       "      <th>loan_amount</th>\n",
       "      <th>loan_term</th>\n",
       "      <th>cibil_score</th>\n",
       "      <th>residential_assets_value</th>\n",
       "      <th>commercial_assets_value</th>\n",
       "      <th>luxury_assets_value</th>\n",
       "      <th>bank_asset_value</th>\n",
       "    </tr>\n",
       "  </thead>\n",
       "  <tbody>\n",
       "    <tr>\n",
       "      <th>count</th>\n",
       "      <td>4269.000000</td>\n",
       "      <td>4269.000000</td>\n",
       "      <td>4.269000e+03</td>\n",
       "      <td>4.269000e+03</td>\n",
       "      <td>4269.000000</td>\n",
       "      <td>4269.000000</td>\n",
       "      <td>4.269000e+03</td>\n",
       "      <td>4.269000e+03</td>\n",
       "      <td>4.269000e+03</td>\n",
       "      <td>4.269000e+03</td>\n",
       "    </tr>\n",
       "    <tr>\n",
       "      <th>mean</th>\n",
       "      <td>2135.000000</td>\n",
       "      <td>2.498712</td>\n",
       "      <td>5.059124e+06</td>\n",
       "      <td>1.513345e+07</td>\n",
       "      <td>10.900445</td>\n",
       "      <td>599.936051</td>\n",
       "      <td>7.472617e+06</td>\n",
       "      <td>4.973155e+06</td>\n",
       "      <td>1.512631e+07</td>\n",
       "      <td>4.976692e+06</td>\n",
       "    </tr>\n",
       "    <tr>\n",
       "      <th>std</th>\n",
       "      <td>1232.498479</td>\n",
       "      <td>1.695910</td>\n",
       "      <td>2.806840e+06</td>\n",
       "      <td>9.043363e+06</td>\n",
       "      <td>5.709187</td>\n",
       "      <td>172.430401</td>\n",
       "      <td>6.503637e+06</td>\n",
       "      <td>4.388966e+06</td>\n",
       "      <td>9.103754e+06</td>\n",
       "      <td>3.250185e+06</td>\n",
       "    </tr>\n",
       "    <tr>\n",
       "      <th>min</th>\n",
       "      <td>1.000000</td>\n",
       "      <td>0.000000</td>\n",
       "      <td>2.000000e+05</td>\n",
       "      <td>3.000000e+05</td>\n",
       "      <td>2.000000</td>\n",
       "      <td>300.000000</td>\n",
       "      <td>-1.000000e+05</td>\n",
       "      <td>0.000000e+00</td>\n",
       "      <td>3.000000e+05</td>\n",
       "      <td>0.000000e+00</td>\n",
       "    </tr>\n",
       "    <tr>\n",
       "      <th>25%</th>\n",
       "      <td>1068.000000</td>\n",
       "      <td>1.000000</td>\n",
       "      <td>2.700000e+06</td>\n",
       "      <td>7.700000e+06</td>\n",
       "      <td>6.000000</td>\n",
       "      <td>453.000000</td>\n",
       "      <td>2.200000e+06</td>\n",
       "      <td>1.300000e+06</td>\n",
       "      <td>7.500000e+06</td>\n",
       "      <td>2.300000e+06</td>\n",
       "    </tr>\n",
       "    <tr>\n",
       "      <th>50%</th>\n",
       "      <td>2135.000000</td>\n",
       "      <td>3.000000</td>\n",
       "      <td>5.100000e+06</td>\n",
       "      <td>1.450000e+07</td>\n",
       "      <td>10.000000</td>\n",
       "      <td>600.000000</td>\n",
       "      <td>5.600000e+06</td>\n",
       "      <td>3.700000e+06</td>\n",
       "      <td>1.460000e+07</td>\n",
       "      <td>4.600000e+06</td>\n",
       "    </tr>\n",
       "    <tr>\n",
       "      <th>75%</th>\n",
       "      <td>3202.000000</td>\n",
       "      <td>4.000000</td>\n",
       "      <td>7.500000e+06</td>\n",
       "      <td>2.150000e+07</td>\n",
       "      <td>16.000000</td>\n",
       "      <td>748.000000</td>\n",
       "      <td>1.130000e+07</td>\n",
       "      <td>7.600000e+06</td>\n",
       "      <td>2.170000e+07</td>\n",
       "      <td>7.100000e+06</td>\n",
       "    </tr>\n",
       "    <tr>\n",
       "      <th>max</th>\n",
       "      <td>4269.000000</td>\n",
       "      <td>5.000000</td>\n",
       "      <td>9.900000e+06</td>\n",
       "      <td>3.950000e+07</td>\n",
       "      <td>20.000000</td>\n",
       "      <td>900.000000</td>\n",
       "      <td>2.910000e+07</td>\n",
       "      <td>1.940000e+07</td>\n",
       "      <td>3.920000e+07</td>\n",
       "      <td>1.470000e+07</td>\n",
       "    </tr>\n",
       "  </tbody>\n",
       "</table>\n",
       "</div>"
      ],
      "text/plain": [
       "           loan_id   no_of_dependents   income_annum   loan_amount  \\\n",
       "count  4269.000000        4269.000000   4.269000e+03  4.269000e+03   \n",
       "mean   2135.000000           2.498712   5.059124e+06  1.513345e+07   \n",
       "std    1232.498479           1.695910   2.806840e+06  9.043363e+06   \n",
       "min       1.000000           0.000000   2.000000e+05  3.000000e+05   \n",
       "25%    1068.000000           1.000000   2.700000e+06  7.700000e+06   \n",
       "50%    2135.000000           3.000000   5.100000e+06  1.450000e+07   \n",
       "75%    3202.000000           4.000000   7.500000e+06  2.150000e+07   \n",
       "max    4269.000000           5.000000   9.900000e+06  3.950000e+07   \n",
       "\n",
       "         loan_term   cibil_score   residential_assets_value  \\\n",
       "count  4269.000000   4269.000000               4.269000e+03   \n",
       "mean     10.900445    599.936051               7.472617e+06   \n",
       "std       5.709187    172.430401               6.503637e+06   \n",
       "min       2.000000    300.000000              -1.000000e+05   \n",
       "25%       6.000000    453.000000               2.200000e+06   \n",
       "50%      10.000000    600.000000               5.600000e+06   \n",
       "75%      16.000000    748.000000               1.130000e+07   \n",
       "max      20.000000    900.000000               2.910000e+07   \n",
       "\n",
       "        commercial_assets_value   luxury_assets_value   bank_asset_value  \n",
       "count              4.269000e+03          4.269000e+03       4.269000e+03  \n",
       "mean               4.973155e+06          1.512631e+07       4.976692e+06  \n",
       "std                4.388966e+06          9.103754e+06       3.250185e+06  \n",
       "min                0.000000e+00          3.000000e+05       0.000000e+00  \n",
       "25%                1.300000e+06          7.500000e+06       2.300000e+06  \n",
       "50%                3.700000e+06          1.460000e+07       4.600000e+06  \n",
       "75%                7.600000e+06          2.170000e+07       7.100000e+06  \n",
       "max                1.940000e+07          3.920000e+07       1.470000e+07  "
      ]
     },
     "execution_count": 267,
     "metadata": {},
     "output_type": "execute_result"
    }
   ],
   "source": [
    "data.describe(include=\"number\")"
   ]
  },
  {
   "cell_type": "code",
   "execution_count": 268,
   "id": "b9c13c40",
   "metadata": {},
   "outputs": [
    {
     "name": "stdout",
     "output_type": "stream",
     "text": [
      "loan_id                       int64\n",
      " no_of_dependents             int64\n",
      " education                   object\n",
      " self_employed               object\n",
      " income_annum                 int64\n",
      " loan_amount                  int64\n",
      " loan_term                    int64\n",
      " cibil_score                  int64\n",
      " residential_assets_value     int64\n",
      " commercial_assets_value      int64\n",
      " luxury_assets_value          int64\n",
      " bank_asset_value             int64\n",
      " loan_status                 object\n",
      "dtype: object\n"
     ]
    }
   ],
   "source": [
    "print(data.dtypes)"
   ]
  },
  {
   "cell_type": "code",
   "execution_count": 269,
   "id": "814bbd59",
   "metadata": {},
   "outputs": [],
   "source": [
    "data.columns = data.columns.str.strip()\n",
    "\n",
    "# Corrected column name usage\n",
    "data['self_employed'] = data['self_employed'].str.strip().str.lower().apply(lambda x: 0 if x == 'no' else 1)"
   ]
  },
  {
   "cell_type": "code",
   "execution_count": 270,
   "id": "d1201d87",
   "metadata": {},
   "outputs": [
    {
     "name": "stdout",
     "output_type": "stream",
     "text": [
      "   loan_id  no_of_dependents      education  self_employed  income_annum  \\\n",
      "0        1                 2       Graduate              0       9600000   \n",
      "1        2                 0   Not Graduate              1       4100000   \n",
      "2        3                 3       Graduate              0       9100000   \n",
      "3        4                 3       Graduate              0       8200000   \n",
      "4        5                 5   Not Graduate              1       9800000   \n",
      "\n",
      "   loan_amount  loan_term  cibil_score  residential_assets_value  \\\n",
      "0     29900000         12          778                   2400000   \n",
      "1     12200000          8          417                   2700000   \n",
      "2     29700000         20          506                   7100000   \n",
      "3     30700000          8          467                  18200000   \n",
      "4     24200000         20          382                  12400000   \n",
      "\n",
      "   commercial_assets_value  luxury_assets_value  bank_asset_value loan_status  \n",
      "0                 17600000             22700000           8000000    Approved  \n",
      "1                  2200000              8800000           3300000    Rejected  \n",
      "2                  4500000             33300000          12800000    Rejected  \n",
      "3                  3300000             23300000           7900000    Rejected  \n",
      "4                  8200000             29400000           5000000    Rejected  \n"
     ]
    }
   ],
   "source": [
    "print(data.head())"
   ]
  },
  {
   "cell_type": "code",
   "execution_count": 271,
   "id": "c6b05f9c",
   "metadata": {},
   "outputs": [
    {
     "name": "stdout",
     "output_type": "stream",
     "text": [
      "[' Graduate' ' Not Graduate']\n"
     ]
    }
   ],
   "source": [
    "print(data['education'].unique())"
   ]
  },
  {
   "cell_type": "code",
   "execution_count": 272,
   "id": "438121a5",
   "metadata": {},
   "outputs": [
    {
     "name": "stdout",
     "output_type": "stream",
     "text": [
      "   loan_id  no_of_dependents  education  self_employed  income_annum  \\\n",
      "0        1                 2          1              0       9600000   \n",
      "1        2                 0          0              1       4100000   \n",
      "2        3                 3          1              0       9100000   \n",
      "3        4                 3          1              0       8200000   \n",
      "4        5                 5          0              1       9800000   \n",
      "\n",
      "   loan_amount  loan_term  cibil_score  residential_assets_value  \\\n",
      "0     29900000         12          778                   2400000   \n",
      "1     12200000          8          417                   2700000   \n",
      "2     29700000         20          506                   7100000   \n",
      "3     30700000          8          467                  18200000   \n",
      "4     24200000         20          382                  12400000   \n",
      "\n",
      "   commercial_assets_value  luxury_assets_value  bank_asset_value loan_status  \n",
      "0                 17600000             22700000           8000000    Approved  \n",
      "1                  2200000              8800000           3300000    Rejected  \n",
      "2                  4500000             33300000          12800000    Rejected  \n",
      "3                  3300000             23300000           7900000    Rejected  \n",
      "4                  8200000             29400000           5000000    Rejected  \n"
     ]
    }
   ],
   "source": [
    "# Convert the 'education' column to string and strip spaces\n",
    "data['education'] = data['education'].astype(str).str.strip()\n",
    "\n",
    "# Encode the 'education' column: 0 for 'Graduate', 1 for 'Not Graduate'\n",
    "data['education'] = data['education'].apply(lambda x: 1 if x == 'Graduate' else 0)\n",
    "\n",
    "# Display the first few rows to check the changes\n",
    "print(data.head())"
   ]
  },
  {
   "cell_type": "code",
   "execution_count": 273,
   "id": "0e1a3ffb",
   "metadata": {},
   "outputs": [
    {
     "name": "stdout",
     "output_type": "stream",
     "text": [
      "Unique values in 'loan_status': [' Approved' ' Rejected']\n"
     ]
    }
   ],
   "source": [
    "print(\"Unique values in 'loan_status':\", data['loan_status'].unique())\n"
   ]
  },
  {
   "cell_type": "code",
   "execution_count": 274,
   "id": "ffab7c65",
   "metadata": {},
   "outputs": [
    {
     "name": "stdout",
     "output_type": "stream",
     "text": [
      "   loan_id  no_of_dependents  education  self_employed  income_annum  \\\n",
      "0        1                 2          1              0       9600000   \n",
      "1        2                 0          0              1       4100000   \n",
      "2        3                 3          1              0       9100000   \n",
      "3        4                 3          1              0       8200000   \n",
      "4        5                 5          0              1       9800000   \n",
      "\n",
      "   loan_amount  loan_term  cibil_score  residential_assets_value  \\\n",
      "0     29900000         12          778                   2400000   \n",
      "1     12200000          8          417                   2700000   \n",
      "2     29700000         20          506                   7100000   \n",
      "3     30700000          8          467                  18200000   \n",
      "4     24200000         20          382                  12400000   \n",
      "\n",
      "   commercial_assets_value  luxury_assets_value  bank_asset_value  loan_status  \n",
      "0                 17600000             22700000           8000000            1  \n",
      "1                  2200000              8800000           3300000            0  \n",
      "2                  4500000             33300000          12800000            0  \n",
      "3                  3300000             23300000           7900000            0  \n",
      "4                  8200000             29400000           5000000            0  \n"
     ]
    }
   ],
   "source": [
    "\n",
    "data['loan_status'] = data['loan_status'].apply(lambda x: 1 if x.strip().lower() == 'approved' else 0)\n",
    "\n",
    "print(data.head())\n"
   ]
  },
  {
   "cell_type": "code",
   "execution_count": 275,
   "id": "9c63a60d",
   "metadata": {},
   "outputs": [],
   "source": [
    "data.drop('loan_id', axis = 1 , inplace = True)"
   ]
  },
  {
   "cell_type": "code",
   "execution_count": 276,
   "id": "48908822",
   "metadata": {},
   "outputs": [],
   "source": [
    "# Identify outliers based on the 3-sigma rule\n",
    "mean = data.mean()\n",
    "std = data.std()\n",
    "lower_bound = mean - 3 * std\n",
    "upper_bound = mean + 3 * std\n",
    "\n",
    "# Remove outliers from the data\n",
    "outliers = (data < lower_bound) | (data > upper_bound)\n",
    "data_cleaned = data[~outliers.any(axis=1)]"
   ]
  },
  {
   "cell_type": "code",
   "execution_count": 277,
   "id": "6d14113e",
   "metadata": {},
   "outputs": [
    {
     "name": "stdout",
     "output_type": "stream",
     "text": [
      "                          no_of_dependents  education  self_employed  \\\n",
      "no_of_dependents                  1.000000   0.002697       0.000765   \n",
      "education                         0.002697   1.000000      -0.023224   \n",
      "self_employed                     0.000765  -0.023224       1.000000   \n",
      "income_annum                      0.007266   0.011625       0.002368   \n",
      "loan_amount                      -0.003366   0.010631       0.001450   \n",
      "loan_term                        -0.020111  -0.008417       0.004107   \n",
      "cibil_score                      -0.009998  -0.004649      -0.004866   \n",
      "residential_assets_value          0.007376   0.010930       0.006144   \n",
      "commercial_assets_value          -0.001531  -0.006763      -0.017998   \n",
      "luxury_assets_value               0.002817   0.012471       0.004413   \n",
      "bank_asset_value                  0.011163   0.009424      -0.000215   \n",
      "loan_status                      -0.018114   0.004918       0.000345   \n",
      "\n",
      "                          income_annum  loan_amount  loan_term  cibil_score  \\\n",
      "no_of_dependents              0.007266    -0.003366  -0.020111    -0.009998   \n",
      "education                     0.011625     0.010631  -0.008417    -0.004649   \n",
      "self_employed                 0.002368     0.001450   0.004107    -0.004866   \n",
      "income_annum                  1.000000     0.927470   0.011488    -0.023034   \n",
      "loan_amount                   0.927470     1.000000   0.008437    -0.017035   \n",
      "loan_term                     0.011488     0.008437   1.000000     0.007810   \n",
      "cibil_score                  -0.023034    -0.017035   0.007810     1.000000   \n",
      "residential_assets_value      0.636841     0.594596   0.008016    -0.019947   \n",
      "commercial_assets_value       0.640328     0.603188  -0.005478    -0.003769   \n",
      "luxury_assets_value           0.929145     0.860914   0.012490    -0.028618   \n",
      "bank_asset_value              0.851093     0.788122   0.017177    -0.015478   \n",
      "loan_status                  -0.015189     0.016150  -0.113036     0.770518   \n",
      "\n",
      "                          residential_assets_value  commercial_assets_value  \\\n",
      "no_of_dependents                          0.007376                -0.001531   \n",
      "education                                 0.010930                -0.006763   \n",
      "self_employed                             0.006144                -0.017998   \n",
      "income_annum                              0.636841                 0.640328   \n",
      "loan_amount                               0.594596                 0.603188   \n",
      "loan_term                                 0.008016                -0.005478   \n",
      "cibil_score                              -0.019947                -0.003769   \n",
      "residential_assets_value                  1.000000                 0.414786   \n",
      "commercial_assets_value                   0.414786                 1.000000   \n",
      "luxury_assets_value                       0.590932                 0.591128   \n",
      "bank_asset_value                          0.527418                 0.548576   \n",
      "loan_status                              -0.014367                 0.008246   \n",
      "\n",
      "                          luxury_assets_value  bank_asset_value  loan_status  \n",
      "no_of_dependents                     0.002817          0.011163    -0.018114  \n",
      "education                            0.012471          0.009424     0.004918  \n",
      "self_employed                        0.004413         -0.000215     0.000345  \n",
      "income_annum                         0.929145          0.851093    -0.015189  \n",
      "loan_amount                          0.860914          0.788122     0.016150  \n",
      "loan_term                            0.012490          0.017177    -0.113036  \n",
      "cibil_score                         -0.028618         -0.015478     0.770518  \n",
      "residential_assets_value             0.590932          0.527418    -0.014367  \n",
      "commercial_assets_value              0.591128          0.548576     0.008246  \n",
      "luxury_assets_value                  1.000000          0.788517    -0.015465  \n",
      "bank_asset_value                     0.788517          1.000000    -0.006778  \n",
      "loan_status                         -0.015465         -0.006778     1.000000  \n"
     ]
    }
   ],
   "source": [
    "correlation_matrix=data.corr()\n",
    "print(correlation_matrix)"
   ]
  },
  {
   "cell_type": "code",
   "execution_count": 278,
   "id": "58e84260",
   "metadata": {},
   "outputs": [
    {
     "name": "stdout",
     "output_type": "stream",
     "text": [
      "Top 5 Maximum Correlations:\n",
      "('income_annum', 'luxury_assets_value'): 0.9291454207522614\n",
      "('luxury_assets_value', 'income_annum'): 0.9291454207522614\n",
      "('income_annum', 'loan_amount'): 0.9274699109871472\n",
      "('loan_amount', 'income_annum'): 0.9274699109871472\n",
      "('loan_amount', 'luxury_assets_value'): 0.8609140328935048\n",
      "('luxury_assets_value', 'loan_amount'): 0.8609140328935048\n",
      "('income_annum', 'bank_asset_value'): 0.851093127940453\n",
      "('bank_asset_value', 'income_annum'): 0.851093127940453\n",
      "\n",
      "Top 5 Minimum Correlations:\n",
      "('loan_term', 'loan_status'): -0.11303578494915476\n",
      "('loan_status', 'loan_term'): -0.11303578494915476\n",
      "('cibil_score', 'luxury_assets_value'): -0.02861762794612002\n",
      "('luxury_assets_value', 'cibil_score'): -0.02861762794612002\n",
      "('education', 'self_employed'): -0.023223604430348887\n",
      "('self_employed', 'education'): -0.023223604430348887\n",
      "('income_annum', 'cibil_score'): -0.023034421699860187\n",
      "('cibil_score', 'income_annum'): -0.023034421699860187\n"
     ]
    }
   ],
   "source": [
    "# Assuming 'data' is your DataFrame\n",
    "correlation_matrix = data.corr()\n",
    "\n",
    "# Mask the diagonal (self-correlation) values\n",
    "correlation_matrix_without_diag = correlation_matrix.mask(np.eye(correlation_matrix.shape[0], dtype=bool))\n",
    "\n",
    "# Convert the correlation matrix to a series, filtering out NaN values\n",
    "correlation_pairs = correlation_matrix_without_diag.unstack().dropna()\n",
    "\n",
    "# Get the top 5 maximum correlations\n",
    "top_5_max = correlation_pairs.nlargest(8)\n",
    "\n",
    "# Get the top 5 minimum correlations\n",
    "top_5_min = correlation_pairs.nsmallest(8)\n",
    "\n",
    "# Output the results\n",
    "print(\"Top 5 Maximum Correlations:\")\n",
    "for index, value in top_5_max.items():\n",
    "    print(f\"{index}: {value}\")\n",
    "\n",
    "print(\"\\nTop 5 Minimum Correlations:\")\n",
    "for index, value in top_5_min.items():\n",
    "    print(f\"{index}: {value}\")"
   ]
  },
  {
   "cell_type": "code",
   "execution_count": 279,
   "id": "75dc178d",
   "metadata": {},
   "outputs": [
    {
     "data": {
      "text/plain": [
       "<Axes: >"
      ]
     },
     "execution_count": 279,
     "metadata": {},
     "output_type": "execute_result"
    },
    {
     "data": {
      "image/png": "[encoded data removed]",
      "text/plain": [
       "<Figure size 640x480 with 2 Axes>"
      ]
     },
     "metadata": {},
     "output_type": "display_data"
    }
   ],
   "source": [
    "import seaborn as sns\n",
    "%matplotlib inline\n",
    "# calculate the correlation matrix on the numeric columns\n",
    "corr = data.select_dtypes('number').corr()\n",
    "# plot the heatmap\n",
    "sns.heatmap(corr)"
   ]
  },
  {
   "cell_type": "code",
   "execution_count": 280,
   "id": "09f30e61",
   "metadata": {},
   "outputs": [
    {
     "name": "stdout",
     "output_type": "stream",
     "text": [
      "   no_of_dependents  education  self_employed  income_annum  loan_amount  \\\n",
      "0         -0.293443   0.993412      -1.007107      1.641471     1.657663   \n",
      "1         -1.473344  -1.006632       0.992943     -0.331231    -0.314382   \n",
      "2          0.296507   0.993412      -1.007107      1.462135     1.635380   \n",
      "3          0.296507   0.993412      -1.007107      1.139329     1.746795   \n",
      "4          1.476407  -1.006632       0.992943      1.713206     1.022598   \n",
      "\n",
      "   loan_term  cibil_score  residential_assets_value  commercial_assets_value  \\\n",
      "0   0.193909     1.032906                 -0.780184                 2.953092   \n",
      "1  -0.506645    -1.062326                 -0.733037                -0.628655   \n",
      "2   1.595019    -0.545773                 -0.041541                -0.093719   \n",
      "3  -0.506645    -0.772128                  1.702912                -0.372816   \n",
      "4   1.595019    -1.265465                  0.791396                 0.766831   \n",
      "\n",
      "   luxury_assets_value  bank_asset_value  loan_status  \n",
      "0             0.846931          0.947220     0.779089  \n",
      "1            -0.687689         -0.508285    -1.283550  \n",
      "2             2.017216          2.433693    -1.283550  \n",
      "3             0.913173          0.916252    -1.283550  \n",
      "4             1.586639          0.018174    -1.283550  \n"
     ]
    }
   ],
   "source": [
    "from sklearn.preprocessing import StandardScaler\n",
    "\n",
    "# Scale numerical features\n",
    "scaler = StandardScaler()\n",
    "scaled_data = scaler.fit_transform(data_cleaned)\n",
    "\n",
    "# Convert scaled data back to DataFrame\n",
    "scaled_df = pd.DataFrame(scaled_data, columns=data_cleaned.columns)\n",
    "\n",
    "# Display the first few rows of the scaled data\n",
    "print(scaled_df.head())\n",
    "\n"
   ]
  },
  {
   "cell_type": "code",
   "execution_count": 281,
   "id": "01a27fd8",
   "metadata": {},
   "outputs": [],
   "source": [
    "# Separate features (X) and target (y)\n",
    "X = scaled_df.drop(columns=['loan_status'])\n",
    "y = scaled_df['loan_status']\n"
   ]
  },
  {
   "cell_type": "code",
   "execution_count": 282,
   "id": "977fa178",
   "metadata": {},
   "outputs": [
    {
     "name": "stdout",
     "output_type": "stream",
     "text": [
      "Unique values in 'y': [ 0 -1]\n"
     ]
    }
   ],
   "source": [
    "# Ensure y is an integer type\n",
    "y = y.astype(int)\n",
    "print(\"Unique values in 'y':\", y.unique())\n"
   ]
  },
  {
   "cell_type": "code",
   "execution_count": 283,
   "id": "efb31ddb",
   "metadata": {},
   "outputs": [],
   "source": [
    "from sklearn.model_selection import train_test_split\n",
    "\n",
    "# Split the data (80% train, 20% test)\n",
    "X_train, X_test, y_train, y_test = train_test_split(X, y, test_size=0.2, random_state=42)\n"
   ]
  },
  {
   "cell_type": "code",
   "execution_count": 284,
   "id": "c9e66ceb",
   "metadata": {},
   "outputs": [
    {
     "name": "stdout",
     "output_type": "stream",
     "text": [
      "Logistic Regression Accuracy: 0.8962264150943396\n",
      "Confusion Matrix:\n",
      " [[296  39]\n",
      " [ 49 464]]\n",
      "Classification Report:\n",
      "               precision    recall  f1-score   support\n",
      "\n",
      "          -1       0.86      0.88      0.87       335\n",
      "           0       0.92      0.90      0.91       513\n",
      "\n",
      "    accuracy                           0.90       848\n",
      "   macro avg       0.89      0.89      0.89       848\n",
      "weighted avg       0.90      0.90      0.90       848\n",
      "\n"
     ]
    }
   ],
   "source": [
    "from sklearn.linear_model import LogisticRegression\n",
    "from sklearn.metrics import accuracy_score, confusion_matrix, classification_report\n",
    "# Initialize and train the Logistic Regression model\n",
    "logistic_model = LogisticRegression()\n",
    "logistic_model.fit(X_train, y_train)\n",
    "# Make predictions\n",
    "y_pred_logistic = logistic_model.predict(X_test)\n",
    "\n",
    "# Evaluate the model\n",
    "print(\"Logistic Regression Accuracy:\", accuracy_score(y_test, y_pred_logistic))\n",
    "print(\"Confusion Matrix:\\n\", confusion_matrix(y_test, y_pred_logistic))\n",
    "print(\"Classification Report:\\n\", classification_report(y_test, y_pred_logistic))\n"
   ]
  },
  {
   "cell_type": "code",
   "execution_count": 285,
   "id": "16820d0f",
   "metadata": {},
   "outputs": [
    {
     "name": "stdout",
     "output_type": "stream",
     "text": [
      "Decision Tree Accuracy: 0.9740566037735849\n",
      "Confusion Matrix:\n",
      " [[323  12]\n",
      " [ 10 503]]\n",
      "Classification Report:\n",
      "               precision    recall  f1-score   support\n",
      "\n",
      "          -1       0.97      0.96      0.97       335\n",
      "           0       0.98      0.98      0.98       513\n",
      "\n",
      "    accuracy                           0.97       848\n",
      "   macro avg       0.97      0.97      0.97       848\n",
      "weighted avg       0.97      0.97      0.97       848\n",
      "\n"
     ]
    }
   ],
   "source": [
    "from sklearn.tree import DecisionTreeClassifier\n",
    "\n",
    "# Initialize the model\n",
    "decision_tree_model = DecisionTreeClassifier()\n",
    "\n",
    "# Train the model\n",
    "decision_tree_model.fit(X_train, y_train)\n",
    "\n",
    "# Make predictions\n",
    "y_pred_tree = decision_tree_model.predict(X_test)\n",
    "\n",
    "# Evaluate the model\n",
    "print(\"Decision Tree Accuracy:\", accuracy_score(y_test, y_pred_tree))\n",
    "print(\"Confusion Matrix:\\n\", confusion_matrix(y_test, y_pred_tree))\n",
    "print(\"Classification Report:\\n\", classification_report(y_test, y_pred_tree))\n"
   ]
  },
  {
   "cell_type": "code",
   "execution_count": 286,
   "id": "c40cebfb",
   "metadata": {},
   "outputs": [
    {
     "name": "stdout",
     "output_type": "stream",
     "text": [
      "Random Forest Accuracy: 0.9823113207547169\n",
      "Confusion Matrix:\n",
      " [[328   7]\n",
      " [  8 505]]\n",
      "Classification Report:\n",
      "               precision    recall  f1-score   support\n",
      "\n",
      "          -1       0.98      0.98      0.98       335\n",
      "           0       0.99      0.98      0.99       513\n",
      "\n",
      "    accuracy                           0.98       848\n",
      "   macro avg       0.98      0.98      0.98       848\n",
      "weighted avg       0.98      0.98      0.98       848\n",
      "\n"
     ]
    }
   ],
   "source": [
    "from sklearn.ensemble import RandomForestClassifier\n",
    "\n",
    "# Initialize the model\n",
    "random_forest_model = RandomForestClassifier(random_state=42)\n",
    "\n",
    "# Train the model\n",
    "random_forest_model.fit(X_train, y_train)\n",
    "\n",
    "# Make predictions\n",
    "y_pred_rf = random_forest_model.predict(X_test)\n",
    "\n",
    "# Evaluate the model\n",
    "print(\"Random Forest Accuracy:\", accuracy_score(y_test, y_pred_rf))\n",
    "print(\"Confusion Matrix:\\n\", confusion_matrix(y_test, y_pred_rf))\n",
    "print(\"Classification Report:\\n\", classification_report(y_test, y_pred_rf))"
   ]
  },
  {
   "cell_type": "code",
   "execution_count": 287,
   "id": "3aec1b35",
   "metadata": {},
   "outputs": [
    {
     "name": "stdout",
     "output_type": "stream",
     "text": [
      "GBM Accuracy: 0.9752358490566038\n",
      "Confusion Matrix:\n",
      " [[324  11]\n",
      " [ 10 503]]\n",
      "Classification Report:\n",
      "               precision    recall  f1-score   support\n",
      "\n",
      "          -1       0.97      0.97      0.97       335\n",
      "           0       0.98      0.98      0.98       513\n",
      "\n",
      "    accuracy                           0.98       848\n",
      "   macro avg       0.97      0.97      0.97       848\n",
      "weighted avg       0.98      0.98      0.98       848\n",
      "\n"
     ]
    }
   ],
   "source": [
    "from sklearn.ensemble import GradientBoostingClassifier\n",
    "\n",
    "\n",
    "# Initialize the model\n",
    "gbm_model = GradientBoostingClassifier(random_state=42)\n",
    "\n",
    "# Train the model\n",
    "gbm_model.fit(X_train, y_train)\n",
    "\n",
    "# Make predictions\n",
    "y_pred_gbm = gbm_model.predict(X_test)\n",
    "\n",
    "# Evaluate the model\n",
    "print(\"GBM Accuracy:\", accuracy_score(y_test, y_pred_gbm))\n",
    "print(\"Confusion Matrix:\\n\", confusion_matrix(y_test, y_pred_gbm))\n",
    "print(\"Classification Report:\\n\", classification_report(y_test, y_pred_gbm))\n"
   ]
  },
  {
   "cell_type": "code",
   "execution_count": 290,
   "id": "ab0ce225",
   "metadata": {},
   "outputs": [
    {
     "name": "stdout",
     "output_type": "stream",
     "text": [
      "Neural Network Accuracy: 0.9575471698113207\n",
      "Confusion Matrix:\n",
      " [[317  18]\n",
      " [ 18 495]]\n",
      "Classification Report:\n",
      "               precision    recall  f1-score   support\n",
      "\n",
      "          -1       0.95      0.95      0.95       335\n",
      "           0       0.96      0.96      0.96       513\n",
      "\n",
      "    accuracy                           0.96       848\n",
      "   macro avg       0.96      0.96      0.96       848\n",
      "weighted avg       0.96      0.96      0.96       848\n",
      "\n"
     ]
    }
   ],
   "source": [
    "from sklearn.neural_network import MLPClassifier\n",
    "\n",
    "# Initialize the model\n",
    "mlp_model = MLPClassifier(random_state=42, max_iter=1000)\n",
    "\n",
    "# Train the model\n",
    "mlp_model.fit(X_train, y_train)\n",
    "\n",
    "# Make predictions\n",
    "y_pred_mlp = mlp_model.predict(X_test)\n",
    "\n",
    "# Evaluate the model\n",
    "print(\"Neural Network Accuracy:\", accuracy_score(y_test, y_pred_mlp))\n",
    "print(\"Confusion Matrix:\\n\", confusion_matrix(y_test, y_pred_mlp))\n",
    "print(\"Classification Report:\\n\", classification_report(y_test, y_pred_mlp))\n"
   ]
  }
 ],
 "metadata": {
  "kernelspec": {
   "display_name": "Python 3 (ipykernel)",
   "language": "python",
   "name": "python3"
  },
  "language_info": {
   "codemirror_mode": {
    "name": "ipython",
    "version": 3
   },
   "file_extension": ".py",
   "mimetype": "text/x-python",
   "name": "python",
   "nbconvert_exporter": "python",
   "pygments_lexer": "ipython3",
   "version": "3.10.9"
  }
 },
 "nbformat": 4,
 "nbformat_minor": 5
}
